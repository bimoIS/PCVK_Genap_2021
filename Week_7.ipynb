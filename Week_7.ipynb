{
  "nbformat": 4,
  "nbformat_minor": 0,
  "metadata": {
    "colab": {
      "name": "Week 7.ipynb",
      "provenance": [],
      "authorship_tag": "ABX9TyPbrRxT4HTzM0HG4M+cA1uY",
      "include_colab_link": true
    },
    "kernelspec": {
      "name": "python3",
      "display_name": "Python 3"
    },
    "language_info": {
      "name": "python"
    }
  },
  "cells": [
    {
      "cell_type": "markdown",
      "metadata": {
        "id": "view-in-github",
        "colab_type": "text"
      },
      "source": [
        "<a href=\"https://colab.research.google.com/github/bimoIS/PCVK_Genap_2021/blob/main/Week_7.ipynb\" target=\"_parent\"><img src=\"https://colab.research.google.com/assets/colab-badge.svg\" alt=\"Open In Colab\"/></a>"
      ]
    },
    {
      "cell_type": "code",
      "metadata": {
        "id": "61RY5kkBu_HY",
        "outputId": "d0edf2dd-d7dd-43ce-ee76-e8978415040e",
        "colab": {
          "base_uri": "https://localhost:8080/"
        }
      },
      "source": [
        "from google.colab import drive\n",
        "\n",
        "drive.mount('/content/drive')"
      ],
      "execution_count": 1,
      "outputs": [
        {
          "output_type": "stream",
          "text": [
            "Mounted at /content/drive\n"
          ],
          "name": "stdout"
        }
      ]
    },
    {
      "cell_type": "code",
      "metadata": {
        "id": "AbHaswt8xLnx"
      },
      "source": [
        "import numpy as np\n",
        "import matplotlib.pyplot as plt\n",
        "import cv2 as cv\n",
        "import math\n",
        "from google.colab.patches import cv2_imshow\n",
        "from PIL import Image as im"
      ],
      "execution_count": 3,
      "outputs": []
    },
    {
      "cell_type": "code",
      "metadata": {
        "id": "7XaV8PThFkE9",
        "outputId": "82a1a9c0-f497-42b8-b69d-3a4d691d210a",
        "colab": {
          "base_uri": "https://localhost:8080/",
          "height": 150
        }
      },
      "source": [
        "def convolution2d(image, kernel, stride, padding):\n",
        "    image = np.pad(image,padding, mode='constant', constant_values=0)\n",
        "\n",
        "    kerkel_height, kernel_width = kernel.shape\n",
        "    padded_height, padded_width = imaga.shape\n",
        "\n",
        "    \"\"\"\n",
        "    Menentukan ukuran output dari proses konvolusi menggunakan rumus:\n",
        "        [(W-K+2P)/S]+1.\n",
        "    W:  ukuran citra input(width / height)\n",
        "    K:  ukuran kernal ((width / height))\n",
        "    P:  nilai padding\n",
        "    S:  nilai stride\n",
        "    \"\"\"\n",
        "\n",
        "    output_height = (padded_height - kernel_height) // stride + 1\n",
        "    output_width = np.zeros((output_height, output_width)).astype(np.float32)\n",
        "\n",
        "    #proses konvolusi\n",
        "    for y in range(0, output_height):\n",
        "      for x in range(0, output_width):\n",
        "        new_image[y][x] = np.sum(image[y * stride:y * stride + kernel_height, x * stride:x * stride + kernel_width * kernel).astype(np.float32)]\n",
        "    return new_image"
      ],
      "execution_count": 4,
      "outputs": [
        {
          "output_type": "error",
          "ename": "SyntaxError",
          "evalue": "ignored",
          "traceback": [
            "\u001b[0;36m  File \u001b[0;32m\"<ipython-input-4-8c6e52d2943a>\"\u001b[0;36m, line \u001b[0;32m22\u001b[0m\n\u001b[0;31m    new_image[y][x] = np.sum(image[y * stride:y * stride + kernel_height, x * stride:x * stride + kernel_width * kernel).astype(np.float32)]\u001b[0m\n\u001b[0m                                                                                                                       ^\u001b[0m\n\u001b[0;31mSyntaxError\u001b[0m\u001b[0;31m:\u001b[0m invalid syntax\n"
          ]
        }
      ]
    }
  ]
}