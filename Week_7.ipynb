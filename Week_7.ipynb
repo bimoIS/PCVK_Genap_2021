{
  "nbformat": 4,
  "nbformat_minor": 0,
  "metadata": {
    "colab": {
      "name": "Week 7.ipynb",
      "provenance": [],
      "mount_file_id": "https://github.com/bimoIS/PCVK_Genap_2021/blob/main/Week_7.ipynb",
      "authorship_tag": "ABX9TyMDrHuVxTnTzrmqNvcgLdJB",
      "include_colab_link": true
    },
    "kernelspec": {
      "name": "python3",
      "display_name": "Python 3"
    },
    "language_info": {
      "name": "python"
    }
  },
  "cells": [
    {
      "cell_type": "markdown",
      "metadata": {
        "id": "view-in-github",
        "colab_type": "text"
      },
      "source": [
        "<a href=\"https://colab.research.google.com/github/bimoIS/PCVK_Genap_2021/blob/main/Week_7.ipynb\" target=\"_parent\"><img src=\"https://colab.research.google.com/assets/colab-badge.svg\" alt=\"Open In Colab\"/></a>"
      ]
    },
    {
      "cell_type": "code",
      "metadata": {
        "id": "61RY5kkBu_HY",
        "colab": {
          "base_uri": "https://localhost:8080/"
        },
        "outputId": "d0edf2dd-d7dd-43ce-ee76-e8978415040e"
      },
      "source": [
        "from google.colab import drive\n",
        "\n",
        "drive.mount('/content/drive')"
      ],
      "execution_count": null,
      "outputs": [
        {
          "output_type": "stream",
          "text": [
            "Mounted at /content/drive\n"
          ],
          "name": "stdout"
        }
      ]
    },
    {
      "cell_type": "code",
      "metadata": {
        "id": "AbHaswt8xLnx"
      },
      "source": [
        "import numpy as np\n",
        "import matplotlib.pyplot as plt\n",
        "import cv2 as cv\n",
        "import math\n",
        "from google.colab.patches import cv2_imshow\n",
        "from PIL import Image as im"
      ],
      "execution_count": null,
      "outputs": []
    },
    {
      "cell_type": "code",
      "metadata": {
        "id": "7XaV8PThFkE9"
      },
      "source": [
        "def convolution2d(image, kernel, stride, padding):\n",
        "\n",
        "  # add paddinng\n",
        "  image = np.pad(image, padding, mode='constant', constant_values=0)\n",
        "\n",
        "  # pick img input width and height values including insertion pad\n",
        "  kernel_height, kernel_width = kernel.shape\n",
        "  padded_height, padded_width = image.shape\n",
        "\n",
        "  \"\"\"\n",
        "  Formula to find the output size using convolution:\n",
        "    [W-K+2SP/S]+1\n",
        "  W = input img size (width/height)\n",
        "  K = kernel size\n",
        "  P = padding size\n",
        "  S = stride value\n",
        "\n",
        "\n",
        "  \"\"\"\n",
        "  output_height = (padded_height - kernel_height) // stride + 1\n",
        "  output_width = (padded_width - kernel_width) // stride + 1\n",
        "\n",
        "  new_image = np.zeros((output_height, output_width)).astype(np.float32)\n",
        "\n",
        "  # convolution process\n",
        "  for y in range(0, output_height):\n",
        "    for x in range(0, output_width):\n",
        "      new_image[y][x] = np.sum(image[y * stride:y * stride + kernel_height, x * stride:x * stride + kernel_width] * kernel).astype(np.float32)"
      ],
      "execution_count": 1,
      "outputs": []
    },
    {
      "cell_type": "code",
      "metadata": {
        "id": "Naik08qWoqND"
      },
      "source": [
        "img = cv.imread('/content/drive/MyDrive/mandrill.jpg')\n",
        "img_gray = cv.cvtColor(img, cv.COLOR_BGR2GRAY)"
      ],
      "execution_count": null,
      "outputs": []
    },
    {
      "cell_type": "code",
      "metadata": {
        "id": "hNQ2P-vJors5"
      },
      "source": [
        "# image sharpen\n",
        "kernal_sharpen = np.array([[0,-1,0],\n",
        "                           [-1,5,-1],\n",
        "                           [0,-1,0]])\n",
        "# emboss\n",
        "kernal_emboss = np.array([[-2,-1,0],\n",
        "                          [-1,1,1],\n",
        "                          [0,1,2]])\n",
        "\n",
        "\n",
        "# left sobel edge detection\n",
        "kernal_sobel = np.array([[1,0,-1],\n",
        "                         [2,0,-2],\n",
        "                         [1,0,-1]])\n",
        "\n",
        "\n",
        "# canny edge detection\n",
        "kernal_canny = np.array([[-1,-1,-1],\n",
        "                         [-1,8,-1],\n",
        "                         [-1,-1,-1]])\n",
        "\n",
        "\n",
        "cv2_imshow(convolution2d(img_gray,kernal_sharpen,1,2))"
      ],
      "execution_count": null,
      "outputs": []
    }
  ]
}