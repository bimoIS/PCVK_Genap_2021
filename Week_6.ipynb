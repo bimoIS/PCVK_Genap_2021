{
  "nbformat": 4,
  "nbformat_minor": 0,
  "metadata": {
    "colab": {
      "name": "Week 6.ipynb",
      "provenance": [],
      "mount_file_id": "https://github.com/bimoIS/PCVK_Genap_2021/blob/main/Week_6.ipynb",
      "authorship_tag": "ABX9TyN3qqvmSY7MFTyxD+VzdmgS",
      "include_colab_link": true
    },
    "kernelspec": {
      "name": "python3",
      "display_name": "Python 3"
    }
  },
  "cells": [
    {
      "cell_type": "markdown",
      "metadata": {
        "id": "view-in-github",
        "colab_type": "text"
      },
      "source": [
        "<a href=\"https://colab.research.google.com/github/bimoIS/PCVK_Genap_2021/blob/main/Week_6.ipynb\" target=\"_parent\"><img src=\"https://colab.research.google.com/assets/colab-badge.svg\" alt=\"Open In Colab\"/></a>"
      ]
    },
    {
      "cell_type": "code",
      "metadata": {
        "id": "chyyLKuEzSL1",
        "outputId": "df60edf8-d335-42a1-e91d-0538910a081c",
        "colab": {
          "base_uri": "https://localhost:8080/"
        }
      },
      "source": [
        "from google.colab import drive\r\n",
        "drive.mount('/content/drive')"
      ],
      "execution_count": 2,
      "outputs": [
        {
          "output_type": "stream",
          "text": [
            "Mounted at /content/drive\n"
          ],
          "name": "stdout"
        }
      ]
    },
    {
      "cell_type": "code",
      "metadata": {
        "id": "dZ_zxUZ90-gL"
      },
      "source": [
        "import cv2 as cv\r\n",
        "from google.colab.patches import cv2_imshow\r\n",
        "from skimage import io\r\n",
        "import matplotlib.pyplot as plt\r\n",
        "import numpy as np\r\n",
        "import math\r\n",
        "import os\r\n",
        "import glob"
      ],
      "execution_count": 3,
      "outputs": []
    },
    {
      "cell_type": "code",
      "metadata": {
        "id": "y9jPoVyy1XZk",
        "outputId": "4f2b13ca-4c9b-40a3-cddd-ddf715765b15",
        "colab": {
          "base_uri": "https://localhost:8080/",
          "height": 227
        }
      },
      "source": [
        "#membuat histogram image (manual)\r\n",
        "img = cv.imread ('/content/drive/MyDrive/Image PCVK/fizi.png')\r\n",
        "#img = cv.cvtColor(img, cv.COLOR.BGR2RGB)\r\n",
        "\r\n",
        "height, width, depth = np.shape(img)\r\n",
        "names = np.arange(256)\r\n",
        "\r\n",
        "blue = [0]*256\r\n",
        "green = [0]*256\r\n",
        "red = [0]*256\r\n",
        "\r\n",
        "for y in range(0,height) :\r\n",
        "  for x in range(0,width) :\r\n",
        "    blue[img[y][x][0]] += 1\r\n",
        "    green[img[y][x][1]] += 1\r\n",
        "    red[img[y][x][2]] += 1\r\n",
        "\r\n",
        "names = np.arange(256)\r\n",
        "fig, axs = plt.subplots(1, 3, figsize=[20,5], sharex=True, sharey=True)\r\n",
        "fig.suptitle('Histogram RGB plot')\r\n",
        "fig.text(0.09, 0.5, 'Jumlah Kemunculan', va='center', rotation='vertical')\r\n",
        "fig.text(0.5, 0.04, 'Intensitas Warna', ha='center')\r\n",
        "axs[0].bar(names, red, color='red')\r\n",
        "axs[1].bar(names, green, color='green')\r\n",
        "axs[2].bar(names, blue, color='blue')"
      ],
      "execution_count": 4,
      "outputs": [
        {
          "output_type": "execute_result",
          "data": {
            "text/plain": [
              "<BarContainer object of 256 artists>"
            ]
          },
          "metadata": {
            "tags": []
          },
          "execution_count": 4
        },
        {
          "output_type": "display_data",
          "data": {
            "image/png": "[encoded data removed]",
            "text/plain": [
              "<Figure size 1440x360 with 3 Axes>"
            ]
          },
          "metadata": {
            "tags": [],
            "needs_background": "light"
          }
        }
      ]
    },
    {
      "cell_type": "code",
      "metadata": {
        "id": "ZjXQysj54KFn",
        "outputId": "e00784c9-70d2-4833-f195-c248dcf3a5bf",
        "colab": {
          "base_uri": "https://localhost:8080/",
          "height": 278
        }
      },
      "source": [
        "#membuat histogram image (library)\r\n",
        "#tuple to select colors of each channel line\r\n",
        "colors = (\"b\", \"g\", \"r\")\r\n",
        "channel_ids = (0, 1, 2)\r\n",
        "\r\n",
        "#create the histogram plot, with three lines on for\r\n",
        "#each color\r\n",
        "plt.xlim([0, 256])\r\n",
        "for channel_id, c in zip(channel_ids, colors):\r\n",
        "  histogram, bin_edges = np.histogram(\r\n",
        "      img[:, :, channel_id], bins=256, range=(0, 256)\r\n",
        "  )\r\n",
        "  plt.plot(bin_edges[0:-1], histogram, color=c)\r\n",
        "\r\n",
        "plt.xlabel(\"Intensitas Warna\")\r\n",
        "plt.ylabel(\"Jumlah Kemunculan\")\r\n",
        "plt.show()"
      ],
      "execution_count": 7,
      "outputs": [
        {
          "output_type": "display_data",
          "data": {
            "image/png": "[encoded data removed]",
            "text/plain": [
              "<Figure size 432x288 with 1 Axes>"
            ]
          },
          "metadata": {
            "tags": [],
            "needs_background": "light"
          }
        }
      ]
    },
    {
      "cell_type": "code",
      "metadata": {
        "id": "m1ThyyE55cXf",
        "outputId": "a845dee1-1935-43b8-8848-c73a14aadd64",
        "colab": {
          "base_uri": "https://localhost:8080/",
          "height": 238
        }
      },
      "source": [
        "channels = cv.split(img)\r\n",
        "eq_channels = []\r\n",
        "for ch, color in zip(channels, ['R', 'G', 'B']):\r\n",
        "  eq_channels.append(cv.equalizeHist(ch))\r\n",
        "  eq_image = cv.merge(eq_channels)\r\n",
        "  equal_histo = histogram(eq_image)\r\n",
        "\r\n",
        "  final_frame = cv.hconcat((img, eq_image))\r\n",
        "  cv2_imshow(final_frame)\r\n",
        "\r\n",
        "  names = np.arange(256)\r\n",
        "  isgrayimg = np.array_equal(blue, green, red)\r\n",
        "  if (isgrayimg == False) :\r\n",
        "    fig, axs = plt.subplots(2,3, figsize=[20,5], sharex=True, sharey=True)\r\n",
        "    fig.suptitle('Histogram RGB plot')\r\n",
        "    fig.text(0.09, 0.5, 'Jumlah Kemunculan', va='center', rotation='vertical')\r\n",
        "    fig.text(0.5, 0.04, 'Intensitas Warna', ha='center')\r\n",
        "    axs[0,0].bar(names, histo_asli[2], color='red')\r\n",
        "    axs[0,1].bar(names, histo_asli[1], color='green')\r\n",
        "    axs[0,2].bar(names, histo_asli[0], color='blue')\r\n",
        "    axs[1,0].bar(names, equal_histo[2], color='red')\r\n",
        "    axs[1,1].bar(names, equal_histo[1], color='green')\r\n",
        "    axs[1,2].bar(names, equal_histo[0], color='blue')\r\n",
        "\r\n",
        " "
      ],
      "execution_count": 15,
      "outputs": [
        {
          "output_type": "error",
          "ename": "TypeError",
          "evalue": "ignored",
          "traceback": [
            "\u001b[0;31m---------------------------------------------------------------------------\u001b[0m",
            "\u001b[0;31mTypeError\u001b[0m                                 Traceback (most recent call last)",
            "\u001b[0;32m<ipython-input-15-ab9ea36f36a1>\u001b[0m in \u001b[0;36m<module>\u001b[0;34m()\u001b[0m\n\u001b[1;32m      4\u001b[0m   \u001b[0meq_channels\u001b[0m\u001b[0;34m.\u001b[0m\u001b[0mappend\u001b[0m\u001b[0;34m(\u001b[0m\u001b[0mcv\u001b[0m\u001b[0;34m.\u001b[0m\u001b[0mequalizeHist\u001b[0m\u001b[0;34m(\u001b[0m\u001b[0mch\u001b[0m\u001b[0;34m)\u001b[0m\u001b[0;34m)\u001b[0m\u001b[0;34m\u001b[0m\u001b[0;34m\u001b[0m\u001b[0m\n\u001b[1;32m      5\u001b[0m   \u001b[0meq_image\u001b[0m \u001b[0;34m=\u001b[0m \u001b[0mcv\u001b[0m\u001b[0;34m.\u001b[0m\u001b[0mmerge\u001b[0m\u001b[0;34m(\u001b[0m\u001b[0meq_channels\u001b[0m\u001b[0;34m)\u001b[0m\u001b[0;34m\u001b[0m\u001b[0;34m\u001b[0m\u001b[0m\n\u001b[0;32m----> 6\u001b[0;31m   \u001b[0mequal_histo\u001b[0m \u001b[0;34m=\u001b[0m \u001b[0mhistogram\u001b[0m\u001b[0;34m(\u001b[0m\u001b[0meq_image\u001b[0m\u001b[0;34m)\u001b[0m\u001b[0;34m\u001b[0m\u001b[0;34m\u001b[0m\u001b[0m\n\u001b[0m\u001b[1;32m      7\u001b[0m \u001b[0;34m\u001b[0m\u001b[0m\n\u001b[1;32m      8\u001b[0m   \u001b[0mfinal_frame\u001b[0m \u001b[0;34m=\u001b[0m \u001b[0mcv\u001b[0m\u001b[0;34m.\u001b[0m\u001b[0mhconcat\u001b[0m\u001b[0;34m(\u001b[0m\u001b[0;34m(\u001b[0m\u001b[0mimg\u001b[0m\u001b[0;34m,\u001b[0m \u001b[0meq_image\u001b[0m\u001b[0;34m)\u001b[0m\u001b[0;34m)\u001b[0m\u001b[0;34m\u001b[0m\u001b[0;34m\u001b[0m\u001b[0m\n",
            "\u001b[0;31mTypeError\u001b[0m: 'numpy.ndarray' object is not callable"
          ]
        }
      ]
    },
    {
      "cell_type": "code",
      "metadata": {
        "id": "DYtxTKSk_hS2",
        "outputId": "24bb0e2b-fd6c-4f75-aeb0-5e0035ce998e",
        "colab": {
          "base_uri": "https://localhost:8080/",
          "height": 238
        }
      },
      "source": [
        "transform_map = np.floor(255 * chistogram_array).astype(np.uint8)\r\n",
        "\r\n",
        "img_list = list(img_array.flatten())\r\n",
        "\r\n",
        "eq_img_list = [transform_map[p] for p in img_list]\r\n",
        "\r\n",
        "eq_img_array = np.reshape (np.asarray(eq_img_list), img_array.shape)\r\n",
        "img2 = eq_img_array\r\n",
        "\r\n",
        "equal_histo = histog(img2)\r\n",
        "\r\n",
        "final_frame = cv.hconcat((img, img2))\r\n",
        "cv2_imshow(final_frame)\r\n",
        "\r\n",
        "names = np.arange(256)\r\n",
        "isgrayimg = np.array_equal(blue, green, red)\r\n",
        "if (isgrayimg == False):\r\n",
        "  fig, axs = plt.subplots(2, 3, figsize=[20,5], sharex=True, sharey=True)\r\n",
        "  fig.subtitle('Histogram RGB plot')\r\n",
        "  fig.text(0.09, 0.5, 'Jumlah Kemunculan', va='center', rotation='vertical')\r\n",
        "  fig.text(0.5, 0.04, 'Intensitas Warna', ha='center')"
      ],
      "execution_count": 17,
      "outputs": [
        {
          "output_type": "error",
          "ename": "NameError",
          "evalue": "ignored",
          "traceback": [
            "\u001b[0;31m---------------------------------------------------------------------------\u001b[0m",
            "\u001b[0;31mNameError\u001b[0m                                 Traceback (most recent call last)",
            "\u001b[0;32m<ipython-input-17-91ff41ed4612>\u001b[0m in \u001b[0;36m<module>\u001b[0;34m()\u001b[0m\n\u001b[0;32m----> 1\u001b[0;31m \u001b[0mtransform_map\u001b[0m \u001b[0;34m=\u001b[0m \u001b[0mnp\u001b[0m\u001b[0;34m.\u001b[0m\u001b[0mfloor\u001b[0m\u001b[0;34m(\u001b[0m\u001b[0;36m255\u001b[0m \u001b[0;34m*\u001b[0m \u001b[0mchistogram_array\u001b[0m\u001b[0;34m)\u001b[0m\u001b[0;34m.\u001b[0m\u001b[0mastype\u001b[0m\u001b[0;34m(\u001b[0m\u001b[0mnp\u001b[0m\u001b[0;34m.\u001b[0m\u001b[0muint8\u001b[0m\u001b[0;34m)\u001b[0m\u001b[0;34m\u001b[0m\u001b[0;34m\u001b[0m\u001b[0m\n\u001b[0m\u001b[1;32m      2\u001b[0m \u001b[0;34m\u001b[0m\u001b[0m\n\u001b[1;32m      3\u001b[0m \u001b[0mimg_list\u001b[0m \u001b[0;34m=\u001b[0m \u001b[0mlist\u001b[0m\u001b[0;34m(\u001b[0m\u001b[0mimg_array\u001b[0m\u001b[0;34m.\u001b[0m\u001b[0mflatten\u001b[0m\u001b[0;34m(\u001b[0m\u001b[0;34m)\u001b[0m\u001b[0;34m)\u001b[0m\u001b[0;34m\u001b[0m\u001b[0;34m\u001b[0m\u001b[0m\n\u001b[1;32m      4\u001b[0m \u001b[0;34m\u001b[0m\u001b[0m\n\u001b[1;32m      5\u001b[0m \u001b[0meq_img_list\u001b[0m \u001b[0;34m=\u001b[0m \u001b[0;34m[\u001b[0m\u001b[0mtransform_map\u001b[0m\u001b[0;34m[\u001b[0m\u001b[0mp\u001b[0m\u001b[0;34m]\u001b[0m \u001b[0;32mfor\u001b[0m \u001b[0mp\u001b[0m \u001b[0;32min\u001b[0m \u001b[0mimg_list\u001b[0m\u001b[0;34m]\u001b[0m\u001b[0;34m\u001b[0m\u001b[0;34m\u001b[0m\u001b[0m\n",
            "\u001b[0;31mNameError\u001b[0m: name 'chistogram_array' is not defined"
          ]
        }
      ]
    },
    {
      "cell_type": "code",
      "metadata": {
        "id": "2MCvIJy0DyGL",
        "outputId": "baa57c76-7b47-4ef2-b2b7-1c7e73067884",
        "colab": {
          "base_uri": "https://localhost:8080/",
          "height": 132
        }
      },
      "source": [
        "fig.suptitle('Histogram RGB plot')\r\n",
        "fig.text(0.09, 0.5, 'Jumlah Kemunculan', va='center', rotation='vertical')\r\n",
        "fig.text(0.5, 0.04, 'Intensitas Warna', ha='center')\r\n",
        "axs[0,0].bar(names, histo_asli[2], color='red')\r\n",
        "axs[0,1].bar(names, histo_asli[1], color='green')\r\n",
        "axs[0,2].bar(names, histo_asli[0], color='blue')\r\n",
        "axs[1,0].bar(names, equal_histo[2], color='red')\r\n",
        "axs[1,1].bar(names, equal_histo[1], color='green')\r\n",
        "axs[1,2].bar(names, equal_histo[0], color='blue')\r\n",
        "\r\n",
        "else:\r\n",
        "    fig, axs = plt.subplots(1, 2, figsize=[20,5], sharex=True, sharey=True)\r\n",
        "    fig.suptitle('Histogram RGB plot')\r\n",
        "    fig.text(0.09, 0.5, 'Jumlah Kemunculan', va='center', rotation='vertical')\r\n",
        "    fig.text(0.5, 0.04, 'Intensitas Warna', ha='center')\r\n",
        "    axs[0,0].bar(names, histo_asli[2], color='gray')\r\n",
        "    axs[0,1].bar(names, equal_histo[2], color='gray')"
      ],
      "execution_count": 18,
      "outputs": [
        {
          "output_type": "error",
          "ename": "SyntaxError",
          "evalue": "ignored",
          "traceback": [
            "\u001b[0;36m  File \u001b[0;32m\"<ipython-input-18-72209091ff0b>\"\u001b[0;36m, line \u001b[0;32m11\u001b[0m\n\u001b[0;31m    else:\u001b[0m\n\u001b[0m       ^\u001b[0m\n\u001b[0;31mSyntaxError\u001b[0m\u001b[0;31m:\u001b[0m invalid syntax\n"
          ]
        }
      ]
    },
    {
      "cell_type": "code",
      "metadata": {
        "id": "teIqtsleFrH2"
      },
      "source": [
        "img = cv.imread('/content/drive/MyDrive/Image PCVK/fizi.png')\r\n",
        "def histog(img):\r\n",
        "  height, width, depth = np.shape(img)\r\n",
        "  ax = np.zeroes(3,256)\r\n",
        "  for y in range(0,height) :\r\n",
        "    for x in range(0,width) :\r\n",
        "      ax[0][img[y][x][0]] += 1\r\n",
        "      ax[1][img[y][x][1]] += 1\r\n",
        "      ax[2][img[y][x][2]] += 1\r\n",
        "  return ax\r\n",
        "\r\n",
        "histo_asli = histog(img)\r\n",
        "\r\n",
        "img_array = np.asarray(img)\r\n",
        "histogram_array = np.bincount (img_array.flatten(), minlegth=256)\r\n",
        "\r\n",
        "num_pixels = np.sum(histogram_array)\r\n",
        "histogram_array = histogram_array/num_pixels\r\n",
        "\r\n",
        "chistogram array = np.cumsum(histogram_array)"
      ],
      "execution_count": null,
      "outputs": []
    }
  ]
}